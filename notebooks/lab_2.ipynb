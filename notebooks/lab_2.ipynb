{
 "cells": [
  {
   "cell_type": "code",
   "execution_count": 1,
   "metadata": {},
   "outputs": [],
   "source": [
    "import sys\n",
    "sys.path.append('..')\n",
    "import pandas as pd\n",
    "import numpy as np\n",
    "import seaborn as sns\n",
    "from matplotlib import pyplot as plt\n",
    "import os\n",
    "import src.config as cfg\n",
    "import src.features.build_features as build_features\n",
    "import pickle\n",
    "from sklearn.preprocessing import LabelEncoder"
   ]
  },
  {
   "cell_type": "markdown",
   "metadata": {},
   "source": [
    "### Preprocessing"
   ]
  },
  {
   "cell_type": "code",
   "execution_count": 2,
   "metadata": {},
   "outputs": [],
   "source": [
    "TARGET_COL = 'SalePrice'\n",
    "ID_COL = 'Id'\n",
    "SCALE_COLS = [\n",
    "    'MSSubClass', 'LotFrontage', 'LotArea', 'OverallQual', 'OverallCond', 'YearBuilt',\n",
    "    'YearRemodAdd', 'MasVnrArea', 'BsmtFinSF1', 'BsmtFinSF2', 'BsmtUnfSF', 'TotalBsmtSF', '1stFlrSF',\n",
    "    '2ndFlrSF', 'LowQualFinSF','GrLivArea', 'BsmtFullBath', 'BsmtHalfBath', 'FullBath', 'HalfBath',\n",
    "    'BedroomAbvGr', 'KitchenAbvGr', 'TotRmsAbvGrd', 'Fireplaces', 'GarageYrBlt', 'GarageCars', 'GarageArea',\n",
    "    'WoodDeckSF', 'OpenPorchSF', 'EnclosedPorch', '3SsnPorch','ScreenPorch', 'PoolArea', 'MiscVal','MoSold', 'YrSold'\n",
    "]\n",
    "OHE_COLS = [\n",
    "    'MSZoning', 'Street', 'Alley', 'LotShape', 'LandContour', 'Utilities', 'LotConfig', 'LandSlope',\n",
    "    'Neighborhood', 'Condition1', 'Condition2', 'BldgType', 'HouseStyle','RoofStyle', 'RoofMatl', 'Exterior1st',\n",
    "    'Exterior2nd', 'MasVnrType','ExterQual', 'ExterCond', 'Foundation', 'BsmtQual', 'BsmtCond','BsmtExposure',\n",
    "    'BsmtFinType1', 'BsmtFinType2', 'Heating', 'HeatingQC','CentralAir', 'Electrical', 'KitchenQual',\n",
    "    'Functional', 'FireplaceQu', 'GarageType','GarageFinish', 'GarageQual', 'GarageCond', 'PavedDrive',\n",
    "    'PoolQC', 'Fence', 'MiscFeature', 'SaleType', 'SaleCondition'\n",
    "]"
   ]
  },
  {
   "cell_type": "code",
   "execution_count": 3,
   "metadata": {},
   "outputs": [],
   "source": [
    "train = pd.read_csv(str(os.getcwd() + \"/../data/raw/train.csv\"))\n",
    "# test = pd.read_csv(str(os.getcwd() + \"/../data/raw/test.csv\"))"
   ]
  },
  {
   "cell_type": "code",
   "execution_count": 4,
   "metadata": {},
   "outputs": [],
   "source": [
    "train, target = train.drop(TARGET_COL, axis=1), train[TARGET_COL]"
   ]
  },
  {
   "cell_type": "code",
   "execution_count": 5,
   "metadata": {},
   "outputs": [
    {
     "name": "stdout",
     "output_type": "stream",
     "text": [
      "(1460, 80)\n",
      "(1460,)\n"
     ]
    }
   ],
   "source": [
    "print(train.shape)\n",
    "# print(test.shape)\n",
    "print(target.shape)"
   ]
  },
  {
   "cell_type": "code",
   "execution_count": 6,
   "metadata": {},
   "outputs": [],
   "source": [
    "train = build_features.feautre_build(train)\n",
    "# test = build_features.feautre_build(test)"
   ]
  },
  {
   "cell_type": "code",
   "execution_count": 7,
   "metadata": {},
   "outputs": [
    {
     "name": "stdout",
     "output_type": "stream",
     "text": [
      "(1460, 81)\n",
      "(1460,)\n"
     ]
    }
   ],
   "source": [
    "print(train.shape)\n",
    "# print(test.shape)\n",
    "print(target.shape)"
   ]
  },
  {
   "cell_type": "code",
   "execution_count": 8,
   "metadata": {},
   "outputs": [],
   "source": [
    "def cast_types(df: pd.DataFrame) -> pd.DataFrame:\n",
    "    df[cfg.SCALE_COLS] = df[cfg.SCALE_COLS].astype(np.float32)\n",
    "\n",
    "    ohe_int_cols = train[cfg.OHE_COLS].select_dtypes('number').columns\n",
    "    df[ohe_int_cols] = df[ohe_int_cols].astype(np.int8)\n",
    "    return df\n",
    "\n",
    "\n",
    "def set_idx(df: pd.DataFrame, idx_col: str) -> pd.DataFrame:\n",
    "    df = df.set_index(idx_col)\n",
    "    return df\n",
    "\n",
    "\n",
    "def preprocess_data(df: pd.DataFrame) -> pd.DataFrame:\n",
    "    df = set_idx(df, cfg.ID_COL)\n",
    "    df = cast_types(df)\n",
    "    return df\n",
    "\n",
    "def preprocess_target(df: pd.DataFrame) -> pd.DataFrame:\n",
    "    df[cfg.TARGET_COL] = df[cfg.TARGET_COL].astype(np.int8)\n",
    "    return df"
   ]
  },
  {
   "cell_type": "code",
   "execution_count": 9,
   "metadata": {},
   "outputs": [],
   "source": [
    "pickle.dump(preprocess_data(train), open('../data/processed/train_data.pkl', 'wb'))\n",
    "# pickle.dump(preprocess_data(test), open('../data/processed/test_data.pkl', 'wb'))\n",
    "pickle.dump(target, open('../data/processed/target_data.pkl', 'wb'))"
   ]
  },
  {
   "cell_type": "markdown",
   "metadata": {},
   "source": [
    "### Model"
   ]
  },
  {
   "cell_type": "code",
   "execution_count": 10,
   "metadata": {},
   "outputs": [],
   "source": [
    "from sklearn.svm import *\n",
    "from sklearn.model_selection import *\n",
    "from sklearn.preprocessing import *\n",
    "from sklearn.compose import *\n",
    "from sklearn.pipeline import *\n",
    "from sklearn.metrics import *\n",
    "from sklearn.impute import *\n",
    "from sklearn.multioutput import *"
   ]
  },
  {
   "cell_type": "markdown",
   "metadata": {},
   "source": [
    "В качестве оcновной метрики оценки качества будем использовать **MSE**, поскольку нам важно заметить любые сильные отклнения от правильного ответа.\n",
    "\n",
    "Кроме того, в качестве дополнительной прверки посчитаем метрику R2, чтобы посмотреть, насколько хорошом модель работате на новых данных."
   ]
  },
  {
   "cell_type": "code",
   "execution_count": 11,
   "metadata": {},
   "outputs": [],
   "source": [
    "def scoring_mse(y_true: np.ndarray, y_pred: np.ndarray) -> float:\n",
    "    return mean_absolute_error(y_true, y_pred)\n",
    "\n",
    "def scoring_r2(y_true: np.ndarray, y_pred: np.ndarray) -> float:\n",
    "    return r2_score(y_true, y_pred)"
   ]
  },
  {
   "cell_type": "code",
   "execution_count": 12,
   "metadata": {},
   "outputs": [],
   "source": [
    "train_data = pd.read_pickle(\"../data/processed/train_data.pkl\")\n",
    "target_data = pd.read_pickle(\"../data/processed/target_data.pkl\")"
   ]
  },
  {
   "cell_type": "code",
   "execution_count": 13,
   "metadata": {},
   "outputs": [
    {
     "name": "stdout",
     "output_type": "stream",
     "text": [
      "(1460, 80)\n",
      "(1460,)\n"
     ]
    }
   ],
   "source": [
    "print(train_data.shape)\n",
    "print(target_data.shape)"
   ]
  },
  {
   "cell_type": "code",
   "execution_count": 14,
   "metadata": {},
   "outputs": [],
   "source": [
    "train_x, test_x, train_y, test_y = train_test_split(train_data, target_data, train_size=0.8, random_state=7) "
   ]
  },
  {
   "cell_type": "code",
   "execution_count": 15,
   "metadata": {},
   "outputs": [
    {
     "name": "stdout",
     "output_type": "stream",
     "text": [
      "(1168, 80)\n",
      "(292, 80)\n"
     ]
    }
   ],
   "source": [
    "print(train_x.shape)\n",
    "print(test_x.shape)"
   ]
  },
  {
   "cell_type": "code",
   "execution_count": 16,
   "metadata": {},
   "outputs": [],
   "source": [
    "scale_pipe = Pipeline([\n",
    "    ('imputer', SimpleImputer()),\n",
    "    ('scaler', StandardScaler())\n",
    "]\n",
    ")\n",
    "\n",
    "ohe_pipe = Pipeline([\n",
    "    ('imputer', SimpleImputer(strategy='constant', fill_value='NA')),\n",
    "    ('ohe', OneHotEncoder(handle_unknown='ignore', sparse=False))\n",
    "])\n",
    "\n",
    "preprocess_pipe = ColumnTransformer(transformers=[\n",
    "    ('scale_cols', scale_pipe, cfg.SCALE_COLS),\n",
    "    ('ohe_cols', ohe_pipe, cfg.OHE_COLS)\n",
    "]\n",
    ")"
   ]
  },
  {
   "cell_type": "code",
   "execution_count": 17,
   "metadata": {},
   "outputs": [],
   "source": [
    "from catboost import CatBoostRegressor, metrics, Pool"
   ]
  },
  {
   "cell_type": "code",
   "execution_count": 18,
   "metadata": {},
   "outputs": [
    {
     "name": "stdout",
     "output_type": "stream",
     "text": [
      "0:\tlearn: 77618.3265134\ttotal: 192ms\tremaining: 31m 57s\n",
      "1000:\tlearn: 30424.3110955\ttotal: 3.6s\tremaining: 32.4s\n",
      "2000:\tlearn: 26969.0337781\ttotal: 6.98s\tremaining: 27.9s\n",
      "3000:\tlearn: 25544.5091471\ttotal: 10.4s\tremaining: 24.2s\n",
      "4000:\tlearn: 24493.8869063\ttotal: 13.7s\tremaining: 20.6s\n",
      "5000:\tlearn: 23587.9828723\ttotal: 17.1s\tremaining: 17.1s\n",
      "6000:\tlearn: 22860.8869897\ttotal: 20.4s\tremaining: 13.6s\n",
      "7000:\tlearn: 22225.6620588\ttotal: 23.7s\tremaining: 10.2s\n",
      "8000:\tlearn: 21673.8284620\ttotal: 27s\tremaining: 6.75s\n",
      "9000:\tlearn: 21170.1330282\ttotal: 30.4s\tremaining: 3.38s\n",
      "9999:\tlearn: 20688.5316706\ttotal: 33.8s\tremaining: 0us\n"
     ]
    },
    {
     "data": {
      "text/plain": [
       "<catboost.core.CatBoostRegressor at 0x1e7d174fbe0>"
      ]
     },
     "execution_count": 18,
     "metadata": {},
     "output_type": "execute_result"
    }
   ],
   "source": [
    "model = CatBoostRegressor(iterations = 10000,\n",
    "            verbose = 1000, learning_rate = 0.01, eval_metric = 'RMSE',\n",
    "            random_seed = 37, loss_function = 'RMSE', l2_leaf_reg = 100,\n",
    "            depth = 3, rsm = 0.6, random_strength = 2)\n",
    "\n",
    "train_x_copy = train_x.copy()\n",
    "my_pipe = preprocess_pipe.fit(train_x_copy)\n",
    "\n",
    "train_x_copy = my_pipe.transform(train_x_copy)\n",
    "model.fit(train_x_copy, train_y)"
   ]
  },
  {
   "cell_type": "code",
   "execution_count": 19,
   "metadata": {},
   "outputs": [],
   "source": [
    "model_pipe = Pipeline([\n",
    "    ('preprocess', preprocess_pipe),\n",
    "    ('model', model)\n",
    "]\n",
    ")"
   ]
  },
  {
   "cell_type": "code",
   "execution_count": 20,
   "metadata": {},
   "outputs": [],
   "source": [
    "test_x_copy = test_x.copy()\n",
    "test_x_copy = my_pipe.transform(test_x_copy)\n",
    "y_pred = np.array(model.predict(test_x_copy))"
   ]
  },
  {
   "cell_type": "code",
   "execution_count": 21,
   "metadata": {},
   "outputs": [
    {
     "name": "stdout",
     "output_type": "stream",
     "text": [
      "(1168, 80)\n",
      "(1168, 299)\n",
      "(292, 80)\n",
      "(292, 299)\n"
     ]
    }
   ],
   "source": [
    "print(train_x.shape)\n",
    "print(train_x_copy.shape)\n",
    "\n",
    "print(test_x.shape)\n",
    "print(test_x_copy.shape)"
   ]
  },
  {
   "cell_type": "code",
   "execution_count": 22,
   "metadata": {},
   "outputs": [
    {
     "name": "stdout",
     "output_type": "stream",
     "text": [
      "MSE: 16800.65137312084\n",
      "R2 score: 0.8968406344097348\n"
     ]
    }
   ],
   "source": [
    "print(f'MSE: {scoring_mse(test_y, y_pred)}')\n",
    "print(f'R2 score: {scoring_r2(test_y, y_pred)}')\n"
   ]
  },
  {
   "cell_type": "markdown",
   "metadata": {},
   "source": [
    "По критерию R2 видно, что модель хорошо работает на новых данных (т.к. значение достаточно близко к 1)"
   ]
  },
  {
   "cell_type": "markdown",
   "metadata": {},
   "source": [
    "Для сравнения посмотрмм модель линейной регресии"
   ]
  },
  {
   "cell_type": "code",
   "execution_count": 23,
   "metadata": {},
   "outputs": [],
   "source": [
    "from sklearn.linear_model import LinearRegression"
   ]
  },
  {
   "cell_type": "code",
   "execution_count": 24,
   "metadata": {},
   "outputs": [],
   "source": [
    "model_lin_reg = LinearRegression()\n",
    "model_lin_reg.fit(train_x_copy, train_y)\n",
    "\n",
    "y_pred_lr = np.array(model_lin_reg.predict(test_x_copy))"
   ]
  },
  {
   "cell_type": "code",
   "execution_count": 25,
   "metadata": {},
   "outputs": [
    {
     "name": "stdout",
     "output_type": "stream",
     "text": [
      "MSE: 50790460607401.89\n"
     ]
    }
   ],
   "source": [
    "print(f'MSE: {scoring_mse(test_y, y_pred_lr)}')\n",
    "# print(f'R2 score: {scoring_r2(test_y, y_pred_lr)}')"
   ]
  },
  {
   "cell_type": "markdown",
   "metadata": {},
   "source": [
    "Очевидно, что результаты, полученные из модели линейной регрессии заметно хуже, чем реультаты CatBoost."
   ]
  },
  {
   "cell_type": "code",
   "execution_count": 26,
   "metadata": {},
   "outputs": [],
   "source": [
    "from sklearn.svm import SVR"
   ]
  },
  {
   "cell_type": "code",
   "execution_count": 27,
   "metadata": {},
   "outputs": [],
   "source": [
    "model_svr = SVR(C=1.0, epsilon=0.2)\n",
    "model_svr.fit(train_x_copy, train_y)\n",
    "\n",
    "y_pred_svc = np.array(model_svr.predict(test_x_copy))"
   ]
  },
  {
   "cell_type": "code",
   "execution_count": 28,
   "metadata": {},
   "outputs": [
    {
     "name": "stdout",
     "output_type": "stream",
     "text": [
      "MSE: 59661.0293932256\n"
     ]
    }
   ],
   "source": [
    "print(f'MSE: {scoring_mse(test_y, y_pred_svc)}')\n",
    "# print(f'R2 score: {scoring_r2(test_y, y_pred_lr)}')"
   ]
  },
  {
   "cell_type": "markdown",
   "metadata": {},
   "source": [
    "Метрики качества этой модели намного лучше, однако CatBoost все-таки показал лучший результат"
   ]
  },
  {
   "cell_type": "markdown",
   "metadata": {},
   "source": []
  }
 ],
 "metadata": {
  "kernelspec": {
   "display_name": "Python 3.10.1 64-bit",
   "language": "python",
   "name": "python3"
  },
  "language_info": {
   "codemirror_mode": {
    "name": "ipython",
    "version": 3
   },
   "file_extension": ".py",
   "mimetype": "text/x-python",
   "name": "python",
   "nbconvert_exporter": "python",
   "pygments_lexer": "ipython3",
   "version": "3.10.1"
  },
  "orig_nbformat": 4,
  "vscode": {
   "interpreter": {
    "hash": "2d0bff8a9a97d2fd5b6b2295f5e7ba2f6db16c929a104389dd3dd73aedc03503"
   }
  }
 },
 "nbformat": 4,
 "nbformat_minor": 2
}
